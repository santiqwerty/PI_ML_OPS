{
 "cells": [
  {
   "cell_type": "code",
   "execution_count": 2,
   "metadata": {},
   "outputs": [],
   "source": [
    "import pandas as pd"
   ]
  },
  {
   "cell_type": "code",
   "execution_count": 3,
   "metadata": {},
   "outputs": [],
   "source": [
    "df_items = pd.read_parquet('../data/interim/parquet/final_items.parquet')\n",
    "df_games = pd.read_parquet('../data/interim/parquet/final_games.parquet')\n",
    "df_reviews = pd.read_parquet('../data/interim/parquet/final_reviews.parquet')"
   ]
  },
  {
   "cell_type": "code",
   "execution_count": 4,
   "metadata": {},
   "outputs": [],
   "source": [
    "df_items['item_id'] = df_items['item_id'].astype(int)"
   ]
  },
  {
   "cell_type": "code",
   "execution_count": 7,
   "metadata": {},
   "outputs": [],
   "source": [
    "import pandas as pd\n",
    "\n",
    "# Asumiendo que df_items, df_reviews y df_games son tus DataFrames.\n",
    "\n",
    "# Primer merge: unir df_items y df_games en 'item_id' y 'id'\n",
    "merged_df_1 = pd.merge(df_items, df_games, left_on='item_id', right_on='id')\n",
    "\n",
    "# Segundo merge: unir el DataFrame resultante con df_reviews en 'user_id'\n",
    "final_merged_df = pd.merge(merged_df_1, df_reviews, on='user_id')\n",
    "\n",
    "# Ahora final_merged_df tiene toda la información combinada de los tres datasets\n",
    "\n",
    "final_merged_df.to_parquet('../data/interim/parquet/merge.parquet', index=False)\n",
    "final_merged_df.to_csv('../data/interim/csv/merge.csv', index=False)"
   ]
  },
  {
   "cell_type": "code",
   "execution_count": 8,
   "metadata": {},
   "outputs": [
    {
     "name": "stdout",
     "output_type": "stream",
     "text": [
      "<class 'pandas.core.frame.DataFrame'>\n",
      "RangeIndex: 6562912 entries, 0 to 6562911\n",
      "Data columns (total 51 columns):\n",
      " #   Column                 Dtype  \n",
      "---  ------                 -----  \n",
      " 0   user_id                object \n",
      " 1   steam_id               object \n",
      " 2   item_id_x              int32  \n",
      " 3   item_name              object \n",
      " 4   playtime_forever       int64  \n",
      " 5   app_name               object \n",
      " 6   id                     int32  \n",
      " 7   price                  float64\n",
      " 8   release_year           int32  \n",
      " 9   Indie                  int32  \n",
      " 10  Action                 int32  \n",
      " 11  Adventure              int32  \n",
      " 12  Casual                 int32  \n",
      " 13  Simulation             int32  \n",
      " 14  Strategy               int32  \n",
      " 15  RPG                    int32  \n",
      " 16  Singleplayer           int32  \n",
      " 17  Free to Play           int32  \n",
      " 18  Multiplayer            int32  \n",
      " 19  Great Soundtrack       int32  \n",
      " 20  Puzzle                 int32  \n",
      " 21  Early Access           int32  \n",
      " 22  2D                     int32  \n",
      " 23  Atmospheric            int32  \n",
      " 24  VR                     int32  \n",
      " 25  Sports                 int32  \n",
      " 26  Platformer             int32  \n",
      " 27  Story Rich             int32  \n",
      " 28  Sci-fi                 int32  \n",
      " 29  Fantasy                int32  \n",
      " 30  Horror                 int32  \n",
      " 31  Open World             int32  \n",
      " 32  Difficult              int32  \n",
      " 33  Anime                  int32  \n",
      " 34  Massively Multiplayer  int32  \n",
      " 35  Pixel Graphics         int32  \n",
      " 36  Co-op                  int32  \n",
      " 37  Shooter                int32  \n",
      " 38  Racing                 int32  \n",
      " 39  Female Protagonist     int32  \n",
      " 40  Funny                  int32  \n",
      " 41  First-Person           int32  \n",
      " 42  FPS                    int32  \n",
      " 43  Sandbox                int32  \n",
      " 44  Arcade                 int32  \n",
      " 45  funny                  int32  \n",
      " 46  posted                 Int64  \n",
      " 47  item_id_y              int32  \n",
      " 48  helpful                int64  \n",
      " 49  recommend              bool   \n",
      " 50  sentiment_analysis     int64  \n",
      "dtypes: Int64(1), bool(1), float64(1), int32(41), int64(3), object(4)\n",
      "memory usage: 1.5+ GB\n"
     ]
    }
   ],
   "source": [
    "final_merged_df.info()"
   ]
  },
  {
   "cell_type": "code",
   "execution_count": 9,
   "metadata": {},
   "outputs": [],
   "source": [
    "# Definir el nuevo orden de las columnas\n",
    "new_column_order = [\n",
    "    'user_id', 'steam_id', 'item_id_x', 'item_name', 'playtime_forever',\n",
    "    'app_name', 'id', 'price', 'release_year', 'funny', 'posted',\n",
    "    'item_id_y', 'helpful', 'recommend', 'sentiment_analysis',\n",
    "    # Mover las columnas de géneros al final\n",
    "    'Indie', 'Action', 'Adventure', 'Casual', 'Simulation', 'Strategy', 'RPG',\n",
    "    'Singleplayer', 'Free to Play', 'Multiplayer', 'Great Soundtrack', 'Puzzle',\n",
    "    'Early Access', '2D', 'Atmospheric', 'VR', 'Sports', 'Platformer',\n",
    "    'Story Rich', 'Sci-fi', 'Fantasy', 'Horror', 'Open World', 'Difficult',\n",
    "    'Anime', 'Massively Multiplayer', 'Pixel Graphics', 'Co-op', 'Shooter',\n",
    "    'Racing', 'Female Protagonist', 'Funny', 'First-Person', 'FPS', 'Sandbox',\n",
    "    'Arcade'\n",
    "]\n",
    "\n",
    "# Reorganizar las columnas\n",
    "final_merged_df = final_merged_df.reindex(columns=new_column_order)\n"
   ]
  },
  {
   "cell_type": "code",
   "execution_count": 10,
   "metadata": {},
   "outputs": [],
   "source": [
    "# Seleccionar las columnas relevantes\n",
    "genre_playtime_df = final_merged_df[['user_id', 'playtime_forever', 'release_year', 'Indie', 'Action', 'Adventure', 'Casual', 'Simulation', 'Strategy', 'RPG', 'Singleplayer', 'Free to Play', 'Multiplayer', 'Great Soundtrack', 'Puzzle', 'Early Access', '2D', 'Atmospheric', 'VR', 'Sports', 'Platformer', 'Story Rich', 'Sci-fi', 'Fantasy', 'Horror', 'Open World', 'Difficult', 'Anime', 'Massively Multiplayer', 'Pixel Graphics', 'Co-op', 'Shooter', 'Racing', 'Female Protagonist', 'Funny', 'First-Person', 'FPS', 'Sandbox', 'Arcade']]\n",
    "\n",
    "# Guardar el DataFrame\n",
    "genre_playtime_df.to_parquet('../data/interim/parquet/genre_playtime.parquet')\n",
    "genre_playtime_df.to_csv('../data/interim/csv/genre_playtime.csv')\n"
   ]
  },
  {
   "cell_type": "code",
   "execution_count": 11,
   "metadata": {},
   "outputs": [],
   "source": [
    "# Seleccionar las columnas relevantes\n",
    "recommendations_df = final_merged_df[['app_name', 'release_year', 'recommend', 'sentiment_analysis']]\n",
    "\n",
    "# Guardar el DataFrame\n",
    "recommendations_df.to_parquet('../data/interim/parquet/recommendations.parquet')\n",
    "recommendations_df.to_csv('../data/interim/csv/recommendations.csv')\n"
   ]
  },
  {
   "cell_type": "code",
   "execution_count": 12,
   "metadata": {},
   "outputs": [],
   "source": [
    "def PlayTimeGenre(genero: str):\n",
    "    # Cargar el DataFrame genre_playtime_df\n",
    "    genre_playtime_df = pd.read_parquet('../data/interim/parquet/genre_playtime.parquet')\n",
    "    \n",
    "    # Filtrar solo las filas donde el género especificado es 1 (presente)\n",
    "    genre_df = genre_playtime_df[genre_playtime_df[genero] == 1]\n",
    "    \n",
    "    # Agrupar por año de lanzamiento y sumar el tiempo de juego\n",
    "    year_playtime = genre_df.groupby('release_year')['playtime_forever'].sum()\n",
    "    \n",
    "    # Encontrar el año con el máximo tiempo de juego\n",
    "    max_playtime_year = year_playtime.idxmax()\n",
    "    \n",
    "    return {\"Año de lanzamiento con más horas jugadas para Género \" + genero : max_playtime_year}\n"
   ]
  },
  {
   "cell_type": "code",
   "execution_count": 14,
   "metadata": {},
   "outputs": [
    {
     "data": {
      "text/plain": [
       "{'Año de lanzamiento con más horas jugadas para Género Indie': 2006}"
      ]
     },
     "execution_count": 14,
     "metadata": {},
     "output_type": "execute_result"
    }
   ],
   "source": [
    "PlayTimeGenre('Indie')"
   ]
  },
  {
   "cell_type": "code",
   "execution_count": 15,
   "metadata": {},
   "outputs": [],
   "source": [
    "def UserForGenre(genero: str):\n",
    "    # Cargar el DataFrame genre_playtime_df\n",
    "    genre_playtime_df = pd.read_parquet('../data/interim/parquet/genre_playtime.parquet')\n",
    "    \n",
    "    # Filtrar solo las filas donde el género especificado es 1 (presente)\n",
    "    genre_df = genre_playtime_df[genre_playtime_df[genero] == 1]\n",
    "    \n",
    "    # Agrupar por usuario y sumar el tiempo de juego\n",
    "    user_playtime = genre_df.groupby('user_id')['playtime_forever'].sum()\n",
    "    \n",
    "    # Encontrar el usuario con el máximo tiempo de juego\n",
    "    max_playtime_user = user_playtime.idxmax()\n",
    "    \n",
    "    # Filtrar las filas para el usuario específico\n",
    "    user_df = genre_df[genre_df['user_id'] == max_playtime_user]\n",
    "    \n",
    "    # Agrupar por año de lanzamiento y sumar el tiempo de juego\n",
    "    user_year_playtime = user_df.groupby('release_year')['playtime_forever'].sum().reset_index()\n",
    "    \n",
    "    # Crear la lista de horas jugadas por año\n",
    "    hours_played = user_year_playtime.to_dict('records')\n",
    "    \n",
    "    return {\"Usuario con más horas jugadas para Género \" + genero : max_playtime_user, \"Horas jugadas\": hours_played}\n",
    "\n"
   ]
  },
  {
   "cell_type": "code",
   "execution_count": 16,
   "metadata": {},
   "outputs": [
    {
     "data": {
      "text/plain": [
       "{'Usuario con más horas jugadas para Género Indie': '76561198063648921',\n",
       " 'Horas jugadas': [{'release_year': -1, 'playtime_forever': 4368},\n",
       "  {'release_year': 1999, 'playtime_forever': 12816},\n",
       "  {'release_year': 2003, 'playtime_forever': 114576},\n",
       "  {'release_year': 2006, 'playtime_forever': 6938448},\n",
       "  {'release_year': 2010, 'playtime_forever': 23016},\n",
       "  {'release_year': 2011, 'playtime_forever': 203520},\n",
       "  {'release_year': 2012, 'playtime_forever': 181512},\n",
       "  {'release_year': 2013, 'playtime_forever': 192768},\n",
       "  {'release_year': 2014, 'playtime_forever': 354144},\n",
       "  {'release_year': 2015, 'playtime_forever': 253632},\n",
       "  {'release_year': 2016, 'playtime_forever': 348528},\n",
       "  {'release_year': 2017, 'playtime_forever': 12528}]}"
      ]
     },
     "execution_count": 16,
     "metadata": {},
     "output_type": "execute_result"
    }
   ],
   "source": [
    "UserForGenre('Indie')"
   ]
  },
  {
   "cell_type": "code",
   "execution_count": 17,
   "metadata": {},
   "outputs": [],
   "source": [
    "def UsersRecommend(año: int):\n",
    "    # Cargar el DataFrame recommendations_df\n",
    "    recommendations_df = pd.read_parquet('../data/interim/parquet/recommendations.parquet')\n",
    "    \n",
    "    # Filtrar las filas para el año especificado y las recomendaciones positivas\n",
    "    year_recommend_df = recommendations_df[(recommendations_df['release_year'] == año) & (recommendations_df['recommend'] == True)]\n",
    "    \n",
    "    # Agrupar por nombre de la aplicación y contar las recomendaciones\n",
    "    game_recommend_count = year_recommend_df.groupby('app_name').size()\n",
    "    \n",
    "    # Ordenar los juegos por la cantidad de recomendaciones y tomar los 3 primeros\n",
    "    top_3_games = game_recommend_count.sort_values(ascending=False).head(3).index.tolist()\n",
    "    \n",
    "    return [{\"Puesto 1\": top_3_games[0]}, {\"Puesto 2\": top_3_games[1]}, {\"Puesto 3\": top_3_games[2]}]\n"
   ]
  },
  {
   "cell_type": "code",
   "execution_count": 22,
   "metadata": {},
   "outputs": [
    {
     "data": {
      "text/plain": [
       "[{'Puesto 1': 'Lost Moon'},\n",
       " {'Puesto 2': 'Divinia Chronicles: Relics of Gan-Ti'},\n",
       " {'Puesto 3': 'Empires Of Creation'}]"
      ]
     },
     "execution_count": 22,
     "metadata": {},
     "output_type": "execute_result"
    }
   ],
   "source": [
    "UsersRecommend(2018)"
   ]
  },
  {
   "cell_type": "code",
   "execution_count": 24,
   "metadata": {},
   "outputs": [],
   "source": [
    "def UsersNotRecommend(año: int):\n",
    "    # Reutilizar la función UsersRecommend, pero con el filtro de recomendación negativa\n",
    "    recommendations_df = pd.read_parquet('../data/interim/parquet/recommendations.parquet')\n",
    "    year_not_recommend_df = recommendations_df[(recommendations_df['release_year'] == año) & (recommendations_df['recommend'] == False)]\n",
    "    game_not_recommend_count = year_not_recommend_df.groupby('app_name').size()\n",
    "    bottom_3_games = game_not_recommend_count.sort_values().head(3).index.tolist()\n",
    "    return [{\"Puesto 1\": bottom_3_games[0]}, {\"Puesto 2\": bottom_3_games[1]}, {\"Puesto 3\": bottom_3_games[2]}]\n"
   ]
  },
  {
   "cell_type": "code",
   "execution_count": 25,
   "metadata": {},
   "outputs": [
    {
     "data": {
      "text/plain": [
       "[{'Puesto 1': 'The Mystery of the Druids'},\n",
       " {'Puesto 2': \"Kohan: Ahriman's Gift\"},\n",
       " {'Puesto 3': 'Kohan: Immortal Sovereigns'}]"
      ]
     },
     "execution_count": 25,
     "metadata": {},
     "output_type": "execute_result"
    }
   ],
   "source": [
    "UsersNotRecommend(2001)"
   ]
  },
  {
   "cell_type": "code",
   "execution_count": null,
   "metadata": {},
   "outputs": [],
   "source": [
    "def sentiment_analysis(año: int):\n",
    "    # Cargar el DataFrame recommendations_df\n",
    "    recommendations_df = pd.read_parquet('../data/interim/parquet/recommendations.parquet')\n",
    "    \n",
    "    # Filtrar las filas para el año especificado\n",
    "    year_sentiment_df = recommendations_df[recommendations_df['release_year'] == año]\n",
    "    \n",
    "    # Contar los registros de análisis de sentimiento\n",
    "    sentiment_counts = year_sentiment_df['sentiment_analysis'].value_counts()\n",
    "    \n",
    "    return {\"Negative\": sentiment_counts.get(0, 0),\n",
    "            \"Neutral\": sentiment_counts.get(1, 0),\n",
    "            \"Positive\": sentiment_counts.get(2, 0)}\n"
   ]
  }
 ],
 "metadata": {
  "kernelspec": {
   "display_name": ".venv",
   "language": "python",
   "name": "python3"
  },
  "language_info": {
   "codemirror_mode": {
    "name": "ipython",
    "version": 3
   },
   "file_extension": ".py",
   "mimetype": "text/x-python",
   "name": "python",
   "nbconvert_exporter": "python",
   "pygments_lexer": "ipython3",
   "version": "3.11.5"
  },
  "orig_nbformat": 4
 },
 "nbformat": 4,
 "nbformat_minor": 2
}
